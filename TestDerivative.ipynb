{
 "cells": [
  {
   "cell_type": "code",
   "execution_count": 1,
   "outputs": [],
   "source": [
    "import numpy as np\n",
    "import pandas as pd\n",
    "from matplotlib import cm\n",
    "from matplotlib import pyplot as plt\n",
    "\n",
    "from utils import *"
   ],
   "metadata": {
    "collapsed": false,
    "pycharm": {
     "name": "#%%\n"
    }
   }
  },
  {
   "cell_type": "code",
   "execution_count": 2,
   "outputs": [],
   "source": [
    "from optimization.range.MethodSven import method_sven_iterations_list\n",
    "from optimization.range.MethodSven import method_sven\n",
    "\n",
    "from optimization.range.SearchDichotomous import search_method_dichotomous_iterations_list\n",
    "from optimization.range.SearchDichotomous import search_dichotomous\n",
    "\n",
    "from optimization.range.HalvingMethod import halving_method\n",
    "from optimization.range.HalvingMethod import halving_method_iterations_list\n",
    "\n",
    "from optimization.range.SearchGoldenSection import search_golden_section\n",
    "from optimization.range.SearchGoldenSection import search_golden_section_iterations_list\n",
    "\n",
    "from optimization.range.SearchPitchAdaptation import search_pitch_adaptation\n",
    "from optimization.range.SearchPitchAdaptation import search_pitch_adaptation_iterations_list\n",
    "from optimization.range.SearchPitchAdaptation import search_pitch_adaptation_iterations_label\n",
    "\n",
    "from interpolition.ThreePointQuadratic import threePointQuadratic\n",
    "from interpolition.ThreePointQuadratic import threePointQuadratic_list\n",
    "from interpolition.ThreePointQuadratic import threePointQuadratic_label\n",
    "\n",
    "from interpolition.CubicInterpolation import cubicInterpolation\n",
    "from interpolition.CubicInterpolation import threePointQuadratic_list\n",
    "from interpolition.CubicInterpolation import threePointQuadratic_label\n",
    "\n",
    "from optimization.n_dimensional.CoordinateDescent import get_coordinate_descent\n",
    "from optimization.n_dimensional.CoordinateDescent import coordinate_descent_iter_list\n",
    "\n",
    "from optimization.n_dimensional.MethodOfSteepestDescent import get_method_of_steepest_descent"
   ],
   "metadata": {
    "collapsed": false,
    "pycharm": {
     "name": "#%%\n"
    }
   }
  },
  {
   "cell_type": "code",
   "execution_count": 4,
   "outputs": [],
   "source": [
    "import utils.function\n",
    "\n",
    "from derivative.derivative import numerical_derivative_1d\n",
    "from derivative.derivative import numerical_derivative_nd"
   ],
   "metadata": {
    "collapsed": false,
    "pycharm": {
     "name": "#%%\n"
    }
   }
  },
  {
   "cell_type": "code",
   "execution_count": 30,
   "outputs": [],
   "source": [
    "epsilon = 0.001\n",
    "def f(x):\n",
    "    return x**2\n",
    "\n",
    "def nd_f(X):\n",
    "    return X[0]**2+X[1]**2"
   ],
   "metadata": {
    "collapsed": false,
    "pycharm": {
     "name": "#%%\n"
    }
   }
  },
  {
   "cell_type": "code",
   "execution_count": 25,
   "outputs": [],
   "source": [
    "derivative_f = numerical_derivative_1d(f,epsilon)\n",
    "derivative_nd_f = numerical_derivative_nd(nd_f,epsilon)"
   ],
   "metadata": {
    "collapsed": false,
    "pycharm": {
     "name": "#%%\n"
    }
   }
  },
  {
   "cell_type": "code",
   "execution_count": 32,
   "outputs": [
    {
     "data": {
      "text/plain": "[1, 1]"
     },
     "execution_count": 32,
     "metadata": {},
     "output_type": "execute_result"
    }
   ],
   "source": [
    "derivative_nd_f([1,1])"
   ],
   "metadata": {
    "collapsed": false,
    "pycharm": {
     "name": "#%%\n"
    }
   }
  },
  {
   "cell_type": "code",
   "execution_count": 34,
   "outputs": [],
   "source": [
    "from MMOR.utils.function import nd_func_to_1d_func\n",
    "\n",
    "test_f = nd_func_to_1d_func(nd_f, [1,1], 0)"
   ],
   "metadata": {
    "collapsed": false,
    "pycharm": {
     "name": "#%%\n"
    }
   }
  },
  {
   "cell_type": "code",
   "execution_count": 36,
   "outputs": [
    {
     "data": {
      "text/plain": "1"
     },
     "execution_count": 36,
     "metadata": {},
     "output_type": "execute_result"
    }
   ],
   "source": [
    "test_f(0)"
   ],
   "metadata": {
    "collapsed": false,
    "pycharm": {
     "name": "#%%\n"
    }
   }
  },
  {
   "cell_type": "code",
   "execution_count": 38,
   "outputs": [
    {
     "data": {
      "text/plain": "2.0009999999996975"
     },
     "execution_count": 38,
     "metadata": {},
     "output_type": "execute_result"
    }
   ],
   "source": [
    "derivative_f(1)"
   ],
   "metadata": {
    "collapsed": false,
    "pycharm": {
     "name": "#%%\n"
    }
   }
  },
  {
   "cell_type": "code",
   "execution_count": null,
   "outputs": [],
   "source": [],
   "metadata": {
    "collapsed": false,
    "pycharm": {
     "name": "#%%\n"
    }
   }
  }
 ],
 "metadata": {
  "kernelspec": {
   "display_name": "Python 3",
   "language": "python",
   "name": "python3"
  },
  "language_info": {
   "codemirror_mode": {
    "name": "ipython",
    "version": 2
   },
   "file_extension": ".py",
   "mimetype": "text/x-python",
   "name": "python",
   "nbconvert_exporter": "python",
   "pygments_lexer": "ipython2",
   "version": "2.7.6"
  }
 },
 "nbformat": 4,
 "nbformat_minor": 0
}