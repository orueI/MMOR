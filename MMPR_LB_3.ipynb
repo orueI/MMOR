{
 "cells": [
  {
   "cell_type": "code",
   "execution_count": 2,
   "outputs": [],
   "source": [
    "import numpy as np\n",
    "import pandas as pd\n",
    "from matplotlib import pyplot as plt"
   ],
   "metadata": {
    "collapsed": false,
    "pycharm": {
     "name": "#%%\n"
    }
   }
  },
  {
   "cell_type": "code",
   "execution_count": 3,
   "outputs": [],
   "source": [
    "from optimization.range.MethodSven import method_sven_iterations_list\n",
    "from optimization.range.MethodSven import method_sven\n",
    "\n",
    "from optimization.range.SearchDichotomous import search_method_dichotomous_iterations_list\n",
    "from optimization.range.SearchDichotomous import search_dichotomous\n",
    "\n",
    "from optimization.range.HalvingMethod import halving_method\n",
    "from optimization.range.HalvingMethod import halving_method_iterations_list\n",
    "\n",
    "from optimization.range.SearchGoldenSection import search_golden_section\n",
    "from optimization.range.SearchGoldenSection import search_golden_section_iterations_list\n",
    "\n",
    "from optimization.range.SearchPitchAdaptation import search_pitch_adaptation\n",
    "from optimization.range.SearchPitchAdaptation import search_pitch_adaptation_iterations_list\n",
    "from optimization.range.SearchPitchAdaptation import search_pitch_adaptation_iterations_label\n",
    "\n",
    "from interpolition.ThreePointQuadratic import threePointQuadratic\n",
    "from interpolition.ThreePointQuadratic import threePointQuadratic_list\n",
    "from interpolition.ThreePointQuadratic import threePointQuadratic_label\n",
    "\n",
    "from interpolition.CubicInterpolation import cubicInterpolation\n",
    "from interpolition.CubicInterpolation import threePointQuadratic_list\n",
    "from interpolition.CubicInterpolation import threePointQuadratic_label"
   ],
   "metadata": {
    "collapsed": false,
    "pycharm": {
     "name": "#%%\n"
    }
   }
  },
  {
   "cell_type": "code",
   "execution_count": 4,
   "outputs": [],
   "source": [
    "x0 = 3.0\n",
    "h = 2.0\n",
    "n = 200\n",
    "\n",
    "count_invoke = 0\n",
    "f = lambda x: 20 * (x + 5).__pow__(2)\n",
    "f_arr = lambda X: np.transpose([X, f(X)])\n",
    "\n",
    "columns = ['x', 'y', 'h']\n",
    "epsilon = 0.001\n",
    "iter = 500"
   ],
   "metadata": {
    "collapsed": false,
    "pycharm": {
     "name": "#%%\n"
    }
   }
  },
  {
   "cell_type": "code",
   "execution_count": 5,
   "outputs": [],
   "source": [
    "def print_iterations(iterations, f=None, range=None, columns=['x', 'y']):\n",
    "    iterations = pd.DataFrame(iterations, columns=columns).reset_index(drop=True)\n",
    "    if f is not None and range is not None:\n",
    "        x = np.linspace(range[0], range[1])\n",
    "        y = f(x)\n",
    "        plt.plot(x, y)\n",
    "    plt.plot(iterations['x'], iterations['y'])\n",
    "    plt.plot([np.array(iterations['x'])[0], np.array(iterations['x'])[-1]],\n",
    "             [np.array(iterations['y'])[0], np.array(iterations['y'])[-1]], 'y^')\n",
    "    plt.show()\n",
    "    return iterations\n",
    "\n",
    "\n",
    "def print_with_sven(sven, starts, ends, start, end, f=None, range=None):\n",
    "    if f is not None and range is not None:\n",
    "        x = np.linspace(range[0], range[1])\n",
    "        y = f(x)\n",
    "        plt.plot(x, y)\n",
    "\n",
    "    print('sven')\n",
    "    print(sven)\n",
    "    print('starts')\n",
    "    print(starts)\n",
    "    print('ends')\n",
    "    print(ends)\n",
    "    plt.plot(sven[0], sven[1], 'r-')\n",
    "    plt.plot(starts[:, 0], starts[:, 1], color=\"blue\")\n",
    "    plt.plot(ends[:, 0], ends[:, 1], color=\"green\")\n",
    "    plt.plot(ends[:, 0], ends[:, 1], color=\"green\")\n",
    "    plt.plot([start[0], end[0]], [start[1], end[1]], 'y^')\n",
    "    plt.show()\n",
    "\n",
    "\n",
    "def concat_iter(arr0, arr1):\n",
    "    arr0 = np.array(arr0)\n",
    "    arr1 = np.array(arr1)\n",
    "    columns = ['x', 'y', 'h']\n",
    "    arr0 = pd.DataFrame(arr0[:, :3], columns=columns)\n",
    "    arr1 = pd.DataFrame(arr1[:, :3], columns=columns)\n",
    "    points = pd.concat([arr0, arr1])\n",
    "    return points\n",
    "\n",
    "\n",
    "def plot(X, Y):\n",
    "    plt.plot(X, Y, 'r-')\n",
    "    plt.plot()\n",
    "\n",
    "\n",
    "def center(x, y):\n",
    "    return (x + y) / 2"
   ],
   "metadata": {
    "collapsed": false,
    "pycharm": {
     "name": "#%%\n"
    }
   }
  },
  {
   "cell_type": "code",
   "execution_count": 5,
   "outputs": [
    {
     "name": "stdout",
     "output_type": "stream",
     "text": [
      "start\n",
      "[-4.999653859456576, 2.396265516042936e-06]\n",
      "[-5.000509565939458, 5.193148933115434e-06]\n",
      "[-5.000081712698017, 1.335393003437688e-07]\n",
      "start\n",
      "[-4.999653859456576, 2.396265516042936e-06]\n",
      "[-5.000509565939458, 5.193148933115434e-06]\n",
      "[-5.000081712698017, 1.335393003437688e-07]\n",
      "start\n",
      "[-4.999653859456576, 2.396265516042936e-06]\n",
      "[-5.000509565939458, 5.193148933115434e-06]\n",
      "[-5.000081712698017, 1.335393003437688e-07]\n",
      "start\n",
      "[-4.999653859456576, 2.396265516042936e-06]\n",
      "[-5.000509565939458, 5.193148933115434e-06]\n",
      "[-5.000081712698017, 1.335393003437688e-07]\n"
     ]
    },
    {
     "data": {
      "text/plain": "<Figure size 432x288 with 1 Axes>",
      "image/png": "[encoded data removed]"
     },
     "metadata": {
      "needs_background": "light"
     },
     "output_type": "display_data"
    },
    {
     "data": {
      "text/plain": "            x             y           h\n0    3.000000  1.280000e+03    2.000000\n1    5.000000  2.000000e+03    2.000000\n2    1.000000  7.200000e+02   -2.000000\n3   -3.000000  8.000000e+01   -4.000000\n4  -11.000000  7.200000e+02   -8.000000\n5   -7.000000  8.000000e+01  -11.000000\n6   -5.472136  4.458247e+00   -7.944272\n7   -4.527864  4.458247e+00   -6.055728\n8   -5.111456  2.484496e-01   -6.055728\n9   -4.750776  1.242248e+00   -5.334369\n10  -4.973689  1.384562e-02   -5.334369\n11  -5.111456  2.484496e-01   -5.334369\n12  -5.026311  1.384562e-02   -5.164079\n13  -4.973689  1.384562e-02   -5.058834\n14  -5.006211  7.715901e-04   -5.058834\n15  -4.986111  3.857950e-03   -5.018634\n16  -4.998534  4.299924e-05   -5.018634\n17  -5.006211  7.715901e-04   -5.018634\n18  -5.001466  4.299924e-05   -5.009144\n19  -4.998534  4.299924e-05   -5.003279\n20  -5.000346  2.396266e-06   -5.003279\n21  -4.999226  1.198133e-05   -5.001038\n22  -4.999918  1.335393e-07   -5.001038\n23  -5.000346  2.396266e-06   -5.001038\n24  -5.000082  1.335393e-07   -5.000510\n25  -5.000082  1.335393e-07  499.000000\n26  -5.000000  1.577722e-29    0.000000",
      "text/html": "<div>\n<style scoped>\n    .dataframe tbody tr th:only-of-type {\n        vertical-align: middle;\n    }\n\n    .dataframe tbody tr th {\n        vertical-align: top;\n    }\n\n    .dataframe thead th {\n        text-align: right;\n    }\n</style>\n<table border=\"1\" class=\"dataframe\">\n  <thead>\n    <tr style=\"text-align: right;\">\n      <th></th>\n      <th>x</th>\n      <th>y</th>\n      <th>h</th>\n    </tr>\n  </thead>\n  <tbody>\n    <tr>\n      <th>0</th>\n      <td>3.000000</td>\n      <td>1.280000e+03</td>\n      <td>2.000000</td>\n    </tr>\n    <tr>\n      <th>1</th>\n      <td>5.000000</td>\n      <td>2.000000e+03</td>\n      <td>2.000000</td>\n    </tr>\n    <tr>\n      <th>2</th>\n      <td>1.000000</td>\n      <td>7.200000e+02</td>\n      <td>-2.000000</td>\n    </tr>\n    <tr>\n      <th>3</th>\n      <td>-3.000000</td>\n      <td>8.000000e+01</td>\n      <td>-4.000000</td>\n    </tr>\n    <tr>\n      <th>4</th>\n      <td>-11.000000</td>\n      <td>7.200000e+02</td>\n      <td>-8.000000</td>\n    </tr>\n    <tr>\n      <th>5</th>\n      <td>-7.000000</td>\n      <td>8.000000e+01</td>\n      <td>-11.000000</td>\n    </tr>\n    <tr>\n      <th>6</th>\n      <td>-5.472136</td>\n      <td>4.458247e+00</td>\n      <td>-7.944272</td>\n    </tr>\n    <tr>\n      <th>7</th>\n      <td>-4.527864</td>\n      <td>4.458247e+00</td>\n      <td>-6.055728</td>\n    </tr>\n    <tr>\n      <th>8</th>\n      <td>-5.111456</td>\n      <td>2.484496e-01</td>\n      <td>-6.055728</td>\n    </tr>\n    <tr>\n      <th>9</th>\n      <td>-4.750776</td>\n      <td>1.242248e+00</td>\n      <td>-5.334369</td>\n    </tr>\n    <tr>\n      <th>10</th>\n      <td>-4.973689</td>\n      <td>1.384562e-02</td>\n      <td>-5.334369</td>\n    </tr>\n    <tr>\n      <th>11</th>\n      <td>-5.111456</td>\n      <td>2.484496e-01</td>\n      <td>-5.334369</td>\n    </tr>\n    <tr>\n      <th>12</th>\n      <td>-5.026311</td>\n      <td>1.384562e-02</td>\n      <td>-5.164079</td>\n    </tr>\n    <tr>\n      <th>13</th>\n      <td>-4.973689</td>\n      <td>1.384562e-02</td>\n      <td>-5.058834</td>\n    </tr>\n    <tr>\n      <th>14</th>\n      <td>-5.006211</td>\n      <td>7.715901e-04</td>\n      <td>-5.058834</td>\n    </tr>\n    <tr>\n      <th>15</th>\n      <td>-4.986111</td>\n      <td>3.857950e-03</td>\n      <td>-5.018634</td>\n    </tr>\n    <tr>\n      <th>16</th>\n      <td>-4.998534</td>\n      <td>4.299924e-05</td>\n      <td>-5.018634</td>\n    </tr>\n    <tr>\n      <th>17</th>\n      <td>-5.006211</td>\n      <td>7.715901e-04</td>\n      <td>-5.018634</td>\n    </tr>\n    <tr>\n      <th>18</th>\n      <td>-5.001466</td>\n      <td>4.299924e-05</td>\n      <td>-5.009144</td>\n    </tr>\n    <tr>\n      <th>19</th>\n      <td>-4.998534</td>\n      <td>4.299924e-05</td>\n      <td>-5.003279</td>\n    </tr>\n    <tr>\n      <th>20</th>\n      <td>-5.000346</td>\n      <td>2.396266e-06</td>\n      <td>-5.003279</td>\n    </tr>\n    <tr>\n      <th>21</th>\n      <td>-4.999226</td>\n      <td>1.198133e-05</td>\n      <td>-5.001038</td>\n    </tr>\n    <tr>\n      <th>22</th>\n      <td>-4.999918</td>\n      <td>1.335393e-07</td>\n      <td>-5.001038</td>\n    </tr>\n    <tr>\n      <th>23</th>\n      <td>-5.000346</td>\n      <td>2.396266e-06</td>\n      <td>-5.001038</td>\n    </tr>\n    <tr>\n      <th>24</th>\n      <td>-5.000082</td>\n      <td>1.335393e-07</td>\n      <td>-5.000510</td>\n    </tr>\n    <tr>\n      <th>25</th>\n      <td>-5.000082</td>\n      <td>1.335393e-07</td>\n      <td>499.000000</td>\n    </tr>\n    <tr>\n      <th>26</th>\n      <td>-5.000000</td>\n      <td>1.577722e-29</td>\n      <td>0.000000</td>\n    </tr>\n  </tbody>\n</table>\n</div>"
     },
     "execution_count": 5,
     "metadata": {},
     "output_type": "execute_result"
    }
   ],
   "source": [
    "range = method_sven(x0, h, f, n)\n",
    "range = search_golden_section(f, range[1], range[0], epsilon=epsilon, iter=iter)\n",
    "\n",
    "start = [range[1], f(range[1])]\n",
    "end = [range[0], f(range[0])]\n",
    "\n",
    "center_x = center(start[0],end[0])\n",
    "center_p = [center_x,f(center_x)]\n",
    "\n",
    "result = threePointQuadratic(f, start, end,center_p , epsilon=epsilon, iter=iter)\n",
    "\n",
    "points = concat_iter(method_sven_iterations_list, search_golden_section_iterations_list)\n",
    "points = concat_iter(points, threePointQuadratic_list)\n",
    "print_iterations(points, f=f, range=[-11, 5],\n",
    "                 columns=columns)"
   ],
   "metadata": {
    "collapsed": false,
    "pycharm": {
     "name": "#%%\n"
    }
   }
  },
  {
   "cell_type": "code",
   "execution_count": 13,
   "outputs": [
    {
     "ename": "SyntaxError",
     "evalue": "invalid syntax (3092309368.py, line 3)",
     "output_type": "error",
     "traceback": [
      "\u001B[0;36m  File \u001B[0;32m\"/tmp/ipykernel_30460/3092309368.py\"\u001B[0;36m, line \u001B[0;32m3\u001B[0m\n\u001B[0;31m    method_sven_iterations_list[4:0:-1][::-1][,0:1]\u001B[0m\n\u001B[0m                                              ^\u001B[0m\n\u001B[0;31mSyntaxError\u001B[0m\u001B[0;31m:\u001B[0m invalid syntax\n"
     ]
    }
   ],
   "source": [
    "range = method_sven(x0, h, f, n)\n",
    "# cubicInterpolation()\n",
    "method_sven_iterations_list[4:0:-1][::-1][,0:1]"
   ],
   "metadata": {
    "collapsed": false,
    "pycharm": {
     "name": "#%%\n"
    }
   }
  },
  {
   "cell_type": "code",
   "execution_count": 24,
   "outputs": [
    {
     "data": {
      "text/plain": "array([[ 3.00e+00,  1.28e+03,  2.00e+00],\n       [ 5.00e+00,  2.00e+03,  2.00e+00],\n       [ 1.00e+00,  7.20e+02, -2.00e+00],\n       [-3.00e+00,  8.00e+01, -4.00e+00],\n       [-1.10e+01,  7.20e+02, -8.00e+00]])"
     },
     "execution_count": 24,
     "metadata": {},
     "output_type": "execute_result"
    }
   ],
   "source": [
    "np.array(method_sven_iterations_list)"
   ],
   "metadata": {
    "collapsed": false,
    "pycharm": {
     "name": "#%%\n"
    }
   }
  },
  {
   "cell_type": "code",
   "execution_count": 14,
   "outputs": [
    {
     "ename": "SyntaxError",
     "evalue": "invalid syntax (2109247758.py, line 1)",
     "output_type": "error",
     "traceback": [
      "\u001B[0;36m  File \u001B[0;32m\"/tmp/ipykernel_30460/2109247758.py\"\u001B[0;36m, line \u001B[0;32m1\u001B[0m\n\u001B[0;31m    method_sven_iterations_list[,0:1]\u001B[0m\n\u001B[0m                                ^\u001B[0m\n\u001B[0;31mSyntaxError\u001B[0m\u001B[0;31m:\u001B[0m invalid syntax\n"
     ]
    }
   ],
   "source": [
    "method_sven_iterations_list[,0:1]"
   ],
   "metadata": {
    "collapsed": false,
    "pycharm": {
     "name": "#%%\n"
    }
   }
  },
  {
   "cell_type": "code",
   "execution_count": 22,
   "outputs": [
    {
     "data": {
      "text/plain": "array([[ 3.00e+00,  1.28e+03],\n       [ 5.00e+00,  2.00e+03],\n       [ 1.00e+00,  7.20e+02],\n       [-3.00e+00,  8.00e+01],\n       [-1.10e+01,  7.20e+02]])"
     },
     "execution_count": 22,
     "metadata": {},
     "output_type": "execute_result"
    }
   ],
   "source": [
    "np.array(method_sven_iterations_list)[:,:2]"
   ],
   "metadata": {
    "collapsed": false,
    "pycharm": {
     "name": "#%%\n"
    }
   }
  },
  {
   "cell_type": "code",
   "execution_count": null,
   "outputs": [],
   "source": [],
   "metadata": {
    "collapsed": false,
    "pycharm": {
     "name": "#%%\n"
    }
   }
  }
 ],
 "metadata": {
  "kernelspec": {
   "display_name": "Python 3",
   "language": "python",
   "name": "python3"
  },
  "language_info": {
   "codemirror_mode": {
    "name": "ipython",
    "version": 2
   },
   "file_extension": ".py",
   "mimetype": "text/x-python",
   "name": "python",
   "nbconvert_exporter": "python",
   "pygments_lexer": "ipython2",
   "version": "2.7.6"
  }
 },
 "nbformat": 4,
 "nbformat_minor": 0
}