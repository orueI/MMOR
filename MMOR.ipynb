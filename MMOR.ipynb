{
 "cells": [
  {
   "cell_type": "code",
   "execution_count": 1,
   "outputs": [],
   "source": [
    "import numpy as np\n",
    "import pandas as pd\n",
    "from matplotlib import pyplot as plt\n",
    "\n",
    "from utils import require"
   ],
   "metadata": {
    "collapsed": false,
    "pycharm": {
     "name": "#%%\n"
    }
   }
  },
  {
   "cell_type": "code",
   "execution_count": 2,
   "outputs": [],
   "source": [
    "from optimization.range.MethodSven import method_sven_iterations_list\n",
    "from optimization.range.MethodSven import method_sven\n",
    "\n",
    "from optimization.range.SearchDichotomous import search_method_dichotomous_iterations_list\n",
    "from optimization.range.SearchDichotomous import search_method_dichotomous_iterations_label\n",
    "from optimization.range.SearchDichotomous import search_dichotomous\n",
    "\n",
    "from optimization.range.HalvingMethod import halving_method\n",
    "from optimization.range.HalvingMethod import halving_method_iterations_list\n",
    "from optimization.range.HalvingMethod import halving_method_iterations_label\n",
    "\n",
    "from optimization.range.SearchGoldenSection import search_golden_section_iterations_list\n",
    "from optimization.range.SearchGoldenSection import log_search_golden_section_iterations_list\n",
    "\n",
    "from optimization.range.SearchPitchAdaptation import search_pitch_adaptation\n",
    "from optimization.range.SearchPitchAdaptation import search_pitch_adaptation_iterations_list\n",
    "from optimization.range.SearchPitchAdaptation import search_pitch_adaptation_iterations_label"
   ],
   "metadata": {
    "collapsed": false,
    "pycharm": {
     "name": "#%%\n"
    }
   }
  },
  {
   "cell_type": "code",
   "execution_count": 3,
   "outputs": [],
   "source": [
    "x0 = 3.0\n",
    "h = 2.0\n",
    "n = 200\n",
    "f = lambda x: 20 * (x + 5).__pow__(2)"
   ],
   "metadata": {
    "collapsed": false,
    "pycharm": {
     "name": "#%%\n"
    }
   }
  },
  {
   "cell_type": "code",
   "execution_count": 4,
   "outputs": [],
   "source": [
    "def print_iterations(iterations, f=None, range=None, columns=['x', 'y']):\n",
    "    iterations = pd.DataFrame(iterations, columns=columns)\n",
    "    if f is not None and range is not None:\n",
    "        x = np.linspace(range[0], range[1])\n",
    "        y = f(x)\n",
    "        plt.plot(x, y)\n",
    "    plt.plot(iterations['x'], iterations['y'])\n",
    "    plt.show()\n",
    "    return iterations"
   ],
   "metadata": {
    "collapsed": false,
    "pycharm": {
     "name": "#%%\n"
    }
   }
  },
  {
   "cell_type": "code",
   "execution_count": 13,
   "outputs": [],
   "source": [
    "# method_sven_iterations_list = []\n",
    "#\n",
    "#\n",
    "# def method_sven(x0: float, h: float, f, n: int = 200):\n",
    "#     method_sven_iterations_list.clear()\n",
    "#\n",
    "#     def inner_method_sven(x0: float, h: float, f, n: int = 200):\n",
    "#         x1 = x0 + h\n",
    "#         f0 = f(x0)\n",
    "#         f1 = f(x1)\n",
    "#         method_sven_iterations_list.append([x1, f1, h])\n",
    "#         if f1 < f0:\n",
    "#             return inner_method_sven(x1, h * 2, f, n)\n",
    "#         else:\n",
    "#             return [x0, x1]\n",
    "#\n",
    "#     x1 = x0 + h\n",
    "#     f0 = f(x0)\n",
    "#     f1 = f(x1)\n",
    "#     method_sven_iterations_list.append([x1, f1, h])\n",
    "#     if f1 < f0:\n",
    "#         return inner_method_sven(x0, h * 2, f, n - 1)\n",
    "#     else:\n",
    "#         return inner_method_sven(x0, h * -1, f, n - 1)"
   ],
   "metadata": {
    "collapsed": false,
    "pycharm": {
     "name": "#%%\n"
    }
   }
  },
  {
   "cell_type": "code",
   "execution_count": 5,
   "outputs": [
    {
     "data": {
      "text/plain": "<Figure size 432x288 with 1 Axes>",
      "image/png": "[encoded data removed]"
     },
     "metadata": {
      "needs_background": "light"
     },
     "output_type": "display_data"
    },
    {
     "data": {
      "text/plain": "      x       y    h\n0   5.0  2000.0  2.0\n1   1.0   720.0 -2.0\n2  -3.0    80.0 -4.0\n3 -11.0   720.0 -8.0",
      "text/html": "<div>\n<style scoped>\n    .dataframe tbody tr th:only-of-type {\n        vertical-align: middle;\n    }\n\n    .dataframe tbody tr th {\n        vertical-align: top;\n    }\n\n    .dataframe thead th {\n        text-align: right;\n    }\n</style>\n<table border=\"1\" class=\"dataframe\">\n  <thead>\n    <tr style=\"text-align: right;\">\n      <th></th>\n      <th>x</th>\n      <th>y</th>\n      <th>h</th>\n    </tr>\n  </thead>\n  <tbody>\n    <tr>\n      <th>0</th>\n      <td>5.0</td>\n      <td>2000.0</td>\n      <td>2.0</td>\n    </tr>\n    <tr>\n      <th>1</th>\n      <td>1.0</td>\n      <td>720.0</td>\n      <td>-2.0</td>\n    </tr>\n    <tr>\n      <th>2</th>\n      <td>-3.0</td>\n      <td>80.0</td>\n      <td>-4.0</td>\n    </tr>\n    <tr>\n      <th>3</th>\n      <td>-11.0</td>\n      <td>720.0</td>\n      <td>-8.0</td>\n    </tr>\n  </tbody>\n</table>\n</div>"
     },
     "execution_count": 5,
     "metadata": {},
     "output_type": "execute_result"
    }
   ],
   "source": [
    "nim = method_sven(x0, h, f, n)\n",
    "print_iterations(method_sven_iterations_list, f=f, range=[-11, 5], columns=['x', 'y', 'h'])"
   ],
   "metadata": {
    "collapsed": false,
    "pycharm": {
     "name": "#%%\n"
    }
   }
  },
  {
   "cell_type": "code",
   "execution_count": 15,
   "outputs": [],
   "source": [
    "# search_method_dichotomous_iterations_list = []\n",
    "# search_method_dichotomous_iterations_label = ['x', 'y', 'start_x', 'end_x', 'left_x', 'right_x', \"center_x\", 'iter']\n",
    "#\n",
    "#\n",
    "# def search_dichotomous(f, start_x, end_x, epsilon=0.01, iter=500):\n",
    "#     search_method_dichotomous_iterations_list.clear()\n",
    "#\n",
    "#     def search_method_dichotomous_inner(f, start_x, end_x, epsilon, iter):\n",
    "#         if abs(end_x - start_x) < epsilon or iter < 0:\n",
    "#             return [start_x, end_x]\n",
    "#         else:\n",
    "#             center_x = start_x + (end_x - start_x) / 2\n",
    "#             left_x = center_x - epsilon / 2.1\n",
    "#             right_x = center_x + epsilon / 2.1\n",
    "#             search_method_dichotomous_iterations_list.append(\n",
    "#                 [center_x, f(center_x), start_x, end_x, left_x, right_x, center_x, iter]\n",
    "#             )\n",
    "#             if f(left_x) < f(right_x):\n",
    "#                 return search_method_dichotomous_inner(f, start_x, right_x, epsilon, iter - 1)\n",
    "#             else:\n",
    "#                 return search_method_dichotomous_inner(f, left_x, end_x, epsilon, iter - 1)\n",
    "#\n",
    "#     return search_method_dichotomous_inner(f, start_x, end_x, epsilon, iter)"
   ],
   "metadata": {
    "collapsed": false,
    "pycharm": {
     "name": "#%%\n"
    }
   }
  },
  {
   "cell_type": "code",
   "execution_count": 6,
   "outputs": [
    {
     "data": {
      "text/plain": "<Figure size 432x288 with 1 Axes>",
      "image/png": "[encoded data removed]"
     },
     "metadata": {
      "needs_background": "light"
     },
     "output_type": "display_data"
    },
    {
     "data": {
      "text/plain": "           x             y    start_x     end_x    left_x   right_x  center_x  \\\n0  -7.000000  8.000000e+01 -11.000000 -3.000000 -7.004762 -6.995238 -7.000000   \n1  -5.002381  1.133787e-04  -7.004762 -3.000000 -5.007143 -4.997619 -5.002381   \n2  -4.003571  1.985740e+01  -5.007143 -3.000000 -4.008333 -3.998810 -4.003571   \n3  -4.502976  4.940653e+00  -5.007143 -3.998810 -4.507738 -4.498214 -4.502976   \n4  -4.752679  1.223358e+00  -5.007143 -4.498214 -4.757440 -4.747917 -4.752679   \n5  -4.877530  2.999792e-01  -5.007143 -4.747917 -4.882292 -4.872768 -4.877530   \n6  -4.939955  7.210718e-02  -5.007143 -4.872768 -4.944717 -4.935193 -4.939955   \n7  -4.971168  1.662551e-02  -5.007143 -4.935193 -4.975930 -4.966406 -4.971168   \n8  -4.986775  3.498249e-03  -5.007143 -4.966406 -4.991536 -4.982013 -4.986775   \n9  -4.994578  5.880153e-04  -5.007143 -4.982013 -4.999340 -4.989816 -4.994578   \n10 -4.998479  4.624737e-05  -5.007143 -4.989816 -5.003241 -4.993717 -4.998479   \n11 -5.000430  3.700624e-06  -5.007143 -4.993717 -5.005192 -4.995668 -5.000430   \n12 -4.999455  5.945894e-06  -5.005192 -4.993717 -5.004217 -4.994693 -4.999455   \n13 -4.999942  6.623414e-08  -5.005192 -4.994693 -5.004704 -4.995181 -4.999942   \n14 -5.000186  6.941728e-07  -5.005192 -4.995181 -5.004948 -4.995424 -5.000186   \n\n    iter  \n0    500  \n1    499  \n2    498  \n3    497  \n4    496  \n5    495  \n6    494  \n7    493  \n8    492  \n9    491  \n10   490  \n11   489  \n12   488  \n13   487  \n14   486  ",
      "text/html": "<div>\n<style scoped>\n    .dataframe tbody tr th:only-of-type {\n        vertical-align: middle;\n    }\n\n    .dataframe tbody tr th {\n        vertical-align: top;\n    }\n\n    .dataframe thead th {\n        text-align: right;\n    }\n</style>\n<table border=\"1\" class=\"dataframe\">\n  <thead>\n    <tr style=\"text-align: right;\">\n      <th></th>\n      <th>x</th>\n      <th>y</th>\n      <th>start_x</th>\n      <th>end_x</th>\n      <th>left_x</th>\n      <th>right_x</th>\n      <th>center_x</th>\n      <th>iter</th>\n    </tr>\n  </thead>\n  <tbody>\n    <tr>\n      <th>0</th>\n      <td>-7.000000</td>\n      <td>8.000000e+01</td>\n      <td>-11.000000</td>\n      <td>-3.000000</td>\n      <td>-7.004762</td>\n      <td>-6.995238</td>\n      <td>-7.000000</td>\n      <td>500</td>\n    </tr>\n    <tr>\n      <th>1</th>\n      <td>-5.002381</td>\n      <td>1.133787e-04</td>\n      <td>-7.004762</td>\n      <td>-3.000000</td>\n      <td>-5.007143</td>\n      <td>-4.997619</td>\n      <td>-5.002381</td>\n      <td>499</td>\n    </tr>\n    <tr>\n      <th>2</th>\n      <td>-4.003571</td>\n      <td>1.985740e+01</td>\n      <td>-5.007143</td>\n      <td>-3.000000</td>\n      <td>-4.008333</td>\n      <td>-3.998810</td>\n      <td>-4.003571</td>\n      <td>498</td>\n    </tr>\n    <tr>\n      <th>3</th>\n      <td>-4.502976</td>\n      <td>4.940653e+00</td>\n      <td>-5.007143</td>\n      <td>-3.998810</td>\n      <td>-4.507738</td>\n      <td>-4.498214</td>\n      <td>-4.502976</td>\n      <td>497</td>\n    </tr>\n    <tr>\n      <th>4</th>\n      <td>-4.752679</td>\n      <td>1.223358e+00</td>\n      <td>-5.007143</td>\n      <td>-4.498214</td>\n      <td>-4.757440</td>\n      <td>-4.747917</td>\n      <td>-4.752679</td>\n      <td>496</td>\n    </tr>\n    <tr>\n      <th>5</th>\n      <td>-4.877530</td>\n      <td>2.999792e-01</td>\n      <td>-5.007143</td>\n      <td>-4.747917</td>\n      <td>-4.882292</td>\n      <td>-4.872768</td>\n      <td>-4.877530</td>\n      <td>495</td>\n    </tr>\n    <tr>\n      <th>6</th>\n      <td>-4.939955</td>\n      <td>7.210718e-02</td>\n      <td>-5.007143</td>\n      <td>-4.872768</td>\n      <td>-4.944717</td>\n      <td>-4.935193</td>\n      <td>-4.939955</td>\n      <td>494</td>\n    </tr>\n    <tr>\n      <th>7</th>\n      <td>-4.971168</td>\n      <td>1.662551e-02</td>\n      <td>-5.007143</td>\n      <td>-4.935193</td>\n      <td>-4.975930</td>\n      <td>-4.966406</td>\n      <td>-4.971168</td>\n      <td>493</td>\n    </tr>\n    <tr>\n      <th>8</th>\n      <td>-4.986775</td>\n      <td>3.498249e-03</td>\n      <td>-5.007143</td>\n      <td>-4.966406</td>\n      <td>-4.991536</td>\n      <td>-4.982013</td>\n      <td>-4.986775</td>\n      <td>492</td>\n    </tr>\n    <tr>\n      <th>9</th>\n      <td>-4.994578</td>\n      <td>5.880153e-04</td>\n      <td>-5.007143</td>\n      <td>-4.982013</td>\n      <td>-4.999340</td>\n      <td>-4.989816</td>\n      <td>-4.994578</td>\n      <td>491</td>\n    </tr>\n    <tr>\n      <th>10</th>\n      <td>-4.998479</td>\n      <td>4.624737e-05</td>\n      <td>-5.007143</td>\n      <td>-4.989816</td>\n      <td>-5.003241</td>\n      <td>-4.993717</td>\n      <td>-4.998479</td>\n      <td>490</td>\n    </tr>\n    <tr>\n      <th>11</th>\n      <td>-5.000430</td>\n      <td>3.700624e-06</td>\n      <td>-5.007143</td>\n      <td>-4.993717</td>\n      <td>-5.005192</td>\n      <td>-4.995668</td>\n      <td>-5.000430</td>\n      <td>489</td>\n    </tr>\n    <tr>\n      <th>12</th>\n      <td>-4.999455</td>\n      <td>5.945894e-06</td>\n      <td>-5.005192</td>\n      <td>-4.993717</td>\n      <td>-5.004217</td>\n      <td>-4.994693</td>\n      <td>-4.999455</td>\n      <td>488</td>\n    </tr>\n    <tr>\n      <th>13</th>\n      <td>-4.999942</td>\n      <td>6.623414e-08</td>\n      <td>-5.005192</td>\n      <td>-4.994693</td>\n      <td>-5.004704</td>\n      <td>-4.995181</td>\n      <td>-4.999942</td>\n      <td>487</td>\n    </tr>\n    <tr>\n      <th>14</th>\n      <td>-5.000186</td>\n      <td>6.941728e-07</td>\n      <td>-5.005192</td>\n      <td>-4.995181</td>\n      <td>-5.004948</td>\n      <td>-4.995424</td>\n      <td>-5.000186</td>\n      <td>486</td>\n    </tr>\n  </tbody>\n</table>\n</div>"
     },
     "execution_count": 6,
     "metadata": {},
     "output_type": "execute_result"
    }
   ],
   "source": [
    "range = method_sven(x0, h, f, n)\n",
    "result = search_dichotomous(f, range[1], range[0])\n",
    "print_iterations(search_method_dichotomous_iterations_list, f=f, range=range,\n",
    "                 columns=search_method_dichotomous_iterations_label)"
   ],
   "metadata": {
    "collapsed": false,
    "pycharm": {
     "name": "#%%\n"
    }
   }
  },
  {
   "cell_type": "code",
   "execution_count": 7,
   "outputs": [],
   "source": [
    "numbers_fibonacci = [1, 1]\n",
    "\n",
    "\n",
    "def get_numbers_fibonacci(n):\n",
    "    size = len(numbers_fibonacci)\n",
    "    if n < size:\n",
    "        return numbers_fibonacci[0:n + 1]\n",
    "    numbers_fibonacci.append(numbers_fibonacci[size - 1] + numbers_fibonacci[size - 2])\n",
    "    return get_numbers_fibonacci(n)\n",
    "\n",
    "\n",
    "def first_divide_fibonacci(f, start_x, end_x, fib_n1, fib_n2):\n",
    "    require(start_x < end_x)\n",
    "    fib_n3 = fib_n1 + fib_n2\n",
    "    delta = end_x - start_x\n",
    "    left_x = start_x + (delta * (fib_n1 / fib_n3))\n",
    "    right_x = start_x + (delta * (fib_n2 / fib_n3))\n",
    "    if f(left_x) < f(right_x):\n",
    "        return [start_x, left_x, right_x]\n",
    "    else:\n",
    "        return [left_x, right_x, end_x]\n"
   ],
   "metadata": {
    "collapsed": false,
    "pycharm": {
     "name": "#%%\n"
    }
   }
  },
  {
   "cell_type": "code",
   "execution_count": 7,
   "outputs": [
    {
     "ename": "NameError",
     "evalue": "name 'first_divide_fibonacci' is not defined",
     "output_type": "error",
     "traceback": [
      "\u001B[0;31m---------------------------------------------------------------------------\u001B[0m",
      "\u001B[0;31mNameError\u001B[0m                                 Traceback (most recent call last)",
      "\u001B[0;32m/tmp/ipykernel_8948/486544422.py\u001B[0m in \u001B[0;36m<module>\u001B[0;34m\u001B[0m\n\u001B[1;32m      2\u001B[0m \u001B[0mrange\u001B[0m \u001B[0;34m=\u001B[0m \u001B[0mmethod_sven\u001B[0m\u001B[0;34m(\u001B[0m\u001B[0mx0\u001B[0m\u001B[0;34m,\u001B[0m \u001B[0mh\u001B[0m\u001B[0;34m,\u001B[0m \u001B[0mf\u001B[0m\u001B[0;34m,\u001B[0m \u001B[0mn\u001B[0m\u001B[0;34m)\u001B[0m\u001B[0;34m\u001B[0m\u001B[0;34m\u001B[0m\u001B[0m\n\u001B[1;32m      3\u001B[0m \u001B[0;31m# numbers_fibonacci\u001B[0m\u001B[0;34m\u001B[0m\u001B[0;34m\u001B[0m\u001B[0;34m\u001B[0m\u001B[0m\n\u001B[0;32m----> 4\u001B[0;31m \u001B[0mfirst_divide_fibonacci\u001B[0m\u001B[0;34m(\u001B[0m\u001B[0mf\u001B[0m\u001B[0;34m,\u001B[0m \u001B[0mrange\u001B[0m\u001B[0;34m[\u001B[0m\u001B[0;36m1\u001B[0m\u001B[0;34m]\u001B[0m\u001B[0;34m,\u001B[0m \u001B[0mrange\u001B[0m\u001B[0;34m[\u001B[0m\u001B[0;36m0\u001B[0m\u001B[0;34m]\u001B[0m\u001B[0;34m,\u001B[0m \u001B[0;36m5\u001B[0m\u001B[0;34m,\u001B[0m \u001B[0;36m8\u001B[0m\u001B[0;34m)\u001B[0m\u001B[0;34m\u001B[0m\u001B[0;34m\u001B[0m\u001B[0m\n\u001B[0m\u001B[1;32m      5\u001B[0m \u001B[0;31m# len(numbers_fibonacci)\u001B[0m\u001B[0;34m\u001B[0m\u001B[0;34m\u001B[0m\u001B[0;34m\u001B[0m\u001B[0m\n\u001B[1;32m      6\u001B[0m \u001B[0;31m# range[1]<range[0]\u001B[0m\u001B[0;34m\u001B[0m\u001B[0;34m\u001B[0m\u001B[0;34m\u001B[0m\u001B[0m\n",
      "\u001B[0;31mNameError\u001B[0m: name 'first_divide_fibonacci' is not defined"
     ]
    }
   ],
   "source": [
    "# get_numbers_fibonacci(6)\n",
    "range = method_sven(x0, h, f, n)\n",
    "# numbers_fibonacci\n",
    "first_divide_fibonacci(f, range[1], range[0], 5, 8)\n",
    "# len(numbers_fibonacci)\n",
    "# range[1]<range[0]"
   ],
   "metadata": {
    "collapsed": false,
    "pycharm": {
     "name": "#%%\n"
    }
   }
  },
  {
   "cell_type": "code",
   "execution_count": 21,
   "outputs": [],
   "source": [
    "# halving_method_iterations_list = []\n",
    "# halving_method_iterations_label = ['x', 'y', 'start_x', 'end_x', 'iter']\n",
    "#\n",
    "# log_halving_method_iterations_list = []\n",
    "# log_halving_method_iterations_label = ['start_x', 'end_x', 'left', \"center\", 'right', 'iter']\n",
    "#\n",
    "#\n",
    "# def center_range(X):\n",
    "#     return X[0] + (X[0] - X[1]) / 2\n",
    "#\n",
    "#\n",
    "# def halving_method(f, start_x, end_x, epsilon=0.01, iter=500):\n",
    "#     def halving_method_inner(f, start_x, end_x, center, epsilon, iter):\n",
    "#         halving_method_iterations_list.append(\n",
    "#             [center[0], center[1], start_x, end_x, iter]\n",
    "#         )\n",
    "#         if abs(end_x - start_x) < epsilon or iter < 0:\n",
    "#             return center\n",
    "#         left_center_x = center_range([start_x, center[0]])\n",
    "#         right_center_x = center_range([center[0], end_x])\n",
    "#\n",
    "#         left_center = [left_center_x, f(left_center_x)]\n",
    "#         right_center = [right_center_x, f(right_center_x)]\n",
    "#\n",
    "#         if left_center[1] < center[1]:\n",
    "#             return halving_method_inner(f, start_x, center[0], left_center, epsilon, iter - 1)\n",
    "#         if center[1] > right_center[1]:\n",
    "#             return halving_method_inner(f, center[0], end_x, right_center, epsilon, iter - 1)\n",
    "#         if left_center[1] >= center[1] <= right_center[1]:\n",
    "#             return halving_method_inner(f, left_center[0], right_center[0], center, epsilon, iter - 1)\n",
    "#         raise ValueError('illegal argument exception')\n",
    "#\n",
    "#     center_x = center_range([start_x, end_x])\n",
    "#     left_center_x = center_range([start_x, center_x])\n",
    "#     right_center_x = center_range([center_x, end_x])\n",
    "#\n",
    "#     center = [center_x, f(center_x)]\n",
    "#     left_center = [left_center_x, f(left_center_x)]\n",
    "#     right_center = [right_center_x, f(right_center_x)]\n",
    "#\n",
    "#     log_halving_method_iterations_list.append(\n",
    "#         [start_x, end_x, left_center, center, right_center,iter]\n",
    "#     )\n",
    "#     if left_center[1] < center[1]:\n",
    "#         return halving_method_inner(f, start_x, center[0], left_center, epsilon, iter - 1)\n",
    "#     if center[1] > right_center[1]:\n",
    "#         return halving_method_inner(f, center[0], end_x, right_center, epsilon, iter - 1)\n",
    "#     if left_center[1] >= center[1] <= right_center[1]:\n",
    "#         return halving_method_inner(f, left_center[0], right_center[0], center, epsilon, iter - 1)\n",
    "#     raise ValueError('illegal argument exception')"
   ],
   "metadata": {
    "collapsed": false,
    "pycharm": {
     "name": "#%%\n"
    }
   }
  },
  {
   "cell_type": "code",
   "execution_count": 7,
   "outputs": [
    {
     "data": {
      "text/plain": "<Figure size 432x288 with 1 Axes>",
      "image/png": "[encoded data removed]"
     },
     "metadata": {
      "needs_background": "light"
     },
     "output_type": "display_data"
    },
    {
     "data": {
      "text/plain": "           x           y    start_x      end_x  iter\n0  -9.000000  320.000000 -11.000000 -15.000000   499\n1  -6.000000   20.000000  -9.000000 -15.000000   498\n2  -6.000000   20.000000 -10.500000  -1.500000   497\n3  -6.000000   20.000000 -12.750000  -8.250000   496\n4  -4.875000    0.312500  -6.000000  -8.250000   495\n5  -4.875000    0.312500  -6.562500  -3.187500   494\n6  -4.875000    0.312500  -7.406250  -5.718750   493\n7  -4.875000    0.312500  -8.671875  -4.453125   492\n8  -5.085938    0.147705  -4.875000  -4.453125   491\n9  -5.085938    0.147705  -4.769531  -5.402344   490\n10 -4.927734    0.104446  -5.085938  -5.402344   489\n11 -4.927734    0.104446  -5.165039  -4.690430   488\n12 -5.046387    0.043035  -4.927734  -4.690430   487\n13 -5.046387    0.043035  -4.868408  -5.224365   486\n14 -4.957397    0.036300  -5.046387  -5.224365   485\n15 -4.957397    0.036300  -5.090881  -4.823914   484\n16 -5.024139    0.011654  -4.957397  -4.823914   483\n17 -5.024139    0.011654  -4.924026  -5.124252   482\n18 -5.024139    0.011654  -4.873970  -4.974083   481\n19 -5.024139    0.011654  -4.798885  -5.049168   480\n20 -5.011625    0.002703  -5.024139  -5.049168   479\n21 -4.992854    0.001021  -5.011625  -5.049168   478\n22 -4.992854    0.001021  -5.021011  -4.964697   477\n23 -5.006932    0.000961  -4.992854  -4.964697   476\n24 -5.006932    0.000961  -4.985815  -5.028050   475\n25 -4.996374    0.000263  -5.006932  -5.028050   474\n26 -4.996374    0.000263  -5.012212  -4.980536   473\n27 -4.996374    0.000263  -5.020131  -5.004293   472\n28 -4.996374    0.000263  -5.032010  -4.992414   471\n29 -4.998353    0.000054  -4.996374  -4.992414   470",
      "text/html": "<div>\n<style scoped>\n    .dataframe tbody tr th:only-of-type {\n        vertical-align: middle;\n    }\n\n    .dataframe tbody tr th {\n        vertical-align: top;\n    }\n\n    .dataframe thead th {\n        text-align: right;\n    }\n</style>\n<table border=\"1\" class=\"dataframe\">\n  <thead>\n    <tr style=\"text-align: right;\">\n      <th></th>\n      <th>x</th>\n      <th>y</th>\n      <th>start_x</th>\n      <th>end_x</th>\n      <th>iter</th>\n    </tr>\n  </thead>\n  <tbody>\n    <tr>\n      <th>0</th>\n      <td>-9.000000</td>\n      <td>320.000000</td>\n      <td>-11.000000</td>\n      <td>-15.000000</td>\n      <td>499</td>\n    </tr>\n    <tr>\n      <th>1</th>\n      <td>-6.000000</td>\n      <td>20.000000</td>\n      <td>-9.000000</td>\n      <td>-15.000000</td>\n      <td>498</td>\n    </tr>\n    <tr>\n      <th>2</th>\n      <td>-6.000000</td>\n      <td>20.000000</td>\n      <td>-10.500000</td>\n      <td>-1.500000</td>\n      <td>497</td>\n    </tr>\n    <tr>\n      <th>3</th>\n      <td>-6.000000</td>\n      <td>20.000000</td>\n      <td>-12.750000</td>\n      <td>-8.250000</td>\n      <td>496</td>\n    </tr>\n    <tr>\n      <th>4</th>\n      <td>-4.875000</td>\n      <td>0.312500</td>\n      <td>-6.000000</td>\n      <td>-8.250000</td>\n      <td>495</td>\n    </tr>\n    <tr>\n      <th>5</th>\n      <td>-4.875000</td>\n      <td>0.312500</td>\n      <td>-6.562500</td>\n      <td>-3.187500</td>\n      <td>494</td>\n    </tr>\n    <tr>\n      <th>6</th>\n      <td>-4.875000</td>\n      <td>0.312500</td>\n      <td>-7.406250</td>\n      <td>-5.718750</td>\n      <td>493</td>\n    </tr>\n    <tr>\n      <th>7</th>\n      <td>-4.875000</td>\n      <td>0.312500</td>\n      <td>-8.671875</td>\n      <td>-4.453125</td>\n      <td>492</td>\n    </tr>\n    <tr>\n      <th>8</th>\n      <td>-5.085938</td>\n      <td>0.147705</td>\n      <td>-4.875000</td>\n      <td>-4.453125</td>\n      <td>491</td>\n    </tr>\n    <tr>\n      <th>9</th>\n      <td>-5.085938</td>\n      <td>0.147705</td>\n      <td>-4.769531</td>\n      <td>-5.402344</td>\n      <td>490</td>\n    </tr>\n    <tr>\n      <th>10</th>\n      <td>-4.927734</td>\n      <td>0.104446</td>\n      <td>-5.085938</td>\n      <td>-5.402344</td>\n      <td>489</td>\n    </tr>\n    <tr>\n      <th>11</th>\n      <td>-4.927734</td>\n      <td>0.104446</td>\n      <td>-5.165039</td>\n      <td>-4.690430</td>\n      <td>488</td>\n    </tr>\n    <tr>\n      <th>12</th>\n      <td>-5.046387</td>\n      <td>0.043035</td>\n      <td>-4.927734</td>\n      <td>-4.690430</td>\n      <td>487</td>\n    </tr>\n    <tr>\n      <th>13</th>\n      <td>-5.046387</td>\n      <td>0.043035</td>\n      <td>-4.868408</td>\n      <td>-5.224365</td>\n      <td>486</td>\n    </tr>\n    <tr>\n      <th>14</th>\n      <td>-4.957397</td>\n      <td>0.036300</td>\n      <td>-5.046387</td>\n      <td>-5.224365</td>\n      <td>485</td>\n    </tr>\n    <tr>\n      <th>15</th>\n      <td>-4.957397</td>\n      <td>0.036300</td>\n      <td>-5.090881</td>\n      <td>-4.823914</td>\n      <td>484</td>\n    </tr>\n    <tr>\n      <th>16</th>\n      <td>-5.024139</td>\n      <td>0.011654</td>\n      <td>-4.957397</td>\n      <td>-4.823914</td>\n      <td>483</td>\n    </tr>\n    <tr>\n      <th>17</th>\n      <td>-5.024139</td>\n      <td>0.011654</td>\n      <td>-4.924026</td>\n      <td>-5.124252</td>\n      <td>482</td>\n    </tr>\n    <tr>\n      <th>18</th>\n      <td>-5.024139</td>\n      <td>0.011654</td>\n      <td>-4.873970</td>\n      <td>-4.974083</td>\n      <td>481</td>\n    </tr>\n    <tr>\n      <th>19</th>\n      <td>-5.024139</td>\n      <td>0.011654</td>\n      <td>-4.798885</td>\n      <td>-5.049168</td>\n      <td>480</td>\n    </tr>\n    <tr>\n      <th>20</th>\n      <td>-5.011625</td>\n      <td>0.002703</td>\n      <td>-5.024139</td>\n      <td>-5.049168</td>\n      <td>479</td>\n    </tr>\n    <tr>\n      <th>21</th>\n      <td>-4.992854</td>\n      <td>0.001021</td>\n      <td>-5.011625</td>\n      <td>-5.049168</td>\n      <td>478</td>\n    </tr>\n    <tr>\n      <th>22</th>\n      <td>-4.992854</td>\n      <td>0.001021</td>\n      <td>-5.021011</td>\n      <td>-4.964697</td>\n      <td>477</td>\n    </tr>\n    <tr>\n      <th>23</th>\n      <td>-5.006932</td>\n      <td>0.000961</td>\n      <td>-4.992854</td>\n      <td>-4.964697</td>\n      <td>476</td>\n    </tr>\n    <tr>\n      <th>24</th>\n      <td>-5.006932</td>\n      <td>0.000961</td>\n      <td>-4.985815</td>\n      <td>-5.028050</td>\n      <td>475</td>\n    </tr>\n    <tr>\n      <th>25</th>\n      <td>-4.996374</td>\n      <td>0.000263</td>\n      <td>-5.006932</td>\n      <td>-5.028050</td>\n      <td>474</td>\n    </tr>\n    <tr>\n      <th>26</th>\n      <td>-4.996374</td>\n      <td>0.000263</td>\n      <td>-5.012212</td>\n      <td>-4.980536</td>\n      <td>473</td>\n    </tr>\n    <tr>\n      <th>27</th>\n      <td>-4.996374</td>\n      <td>0.000263</td>\n      <td>-5.020131</td>\n      <td>-5.004293</td>\n      <td>472</td>\n    </tr>\n    <tr>\n      <th>28</th>\n      <td>-4.996374</td>\n      <td>0.000263</td>\n      <td>-5.032010</td>\n      <td>-4.992414</td>\n      <td>471</td>\n    </tr>\n    <tr>\n      <th>29</th>\n      <td>-4.998353</td>\n      <td>0.000054</td>\n      <td>-4.996374</td>\n      <td>-4.992414</td>\n      <td>470</td>\n    </tr>\n  </tbody>\n</table>\n</div>"
     },
     "execution_count": 7,
     "metadata": {},
     "output_type": "execute_result"
    }
   ],
   "source": [
    "range = method_sven(x0, h, f, n)\n",
    "result = halving_method(f, range[1], range[0])\n",
    "print_iterations(halving_method_iterations_list, f=f, range=range,\n",
    "                 columns=halving_method_iterations_label)"
   ],
   "metadata": {
    "collapsed": false,
    "pycharm": {
     "name": "#%%\n"
    }
   }
  },
  {
   "cell_type": "code",
   "execution_count": 15,
   "outputs": [],
   "source": [
    "golden_section = ((5 ** (0.5) + 1) / 2)\n",
    "\n",
    "search_golden_section_iterations_list = []\n",
    "search_golden_section_iterations_label = ['x', 'y', 'start_x', 'end_x', 'iter']\n",
    "\n",
    "log_search_golden_section_iterations_list = []\n",
    "log_search_golden_section_iterations_label = ['start_x', 'end_x', 'left', \"center\", 'right', 'iter']\n",
    "\n",
    "\n",
    "def search_golden_section(f, start_x, end_x, epsilon=0.001, iter=500):\n",
    "    search_golden_section_iterations_list.clear()\n",
    "\n",
    "    def search_golden_section_inner(f, start_x, end_x, left, right, epsilon, iter):\n",
    "        search_golden_section_iterations_list.append(\n",
    "            [(end_x + start_x) / 2, f((end_x + start_x) / 2), start_x, end_x, iter]\n",
    "        )\n",
    "        if abs(end_x - start_x) < epsilon or iter < 0:\n",
    "            return [(end_x + start_x) / 2, f((end_x + start_x) / 2)]\n",
    "        if left is None:\n",
    "            left_x = end_x - (end_x - start_x) / golden_section\n",
    "            left = [left_x, f(left_x)]\n",
    "        if right is None:\n",
    "            right_x = start_x + (end_x - start_x) / golden_section\n",
    "            right = [right_x, f(right_x)]\n",
    "        log_search_golden_section_iterations_list.append(\n",
    "            [start_x, end_x, left, right, epsilon, iter]\n",
    "        )\n",
    "        if left[1] < right[1]:\n",
    "            return search_golden_section_inner(f, start_x, right[0], None, left, epsilon, iter - 1)\n",
    "        else:\n",
    "            return search_golden_section_inner(f, left[0], end_x, right, None, epsilon, iter - 1)\n",
    "\n",
    "    left_x = end_x - (end_x - start_x) / golden_section\n",
    "    right_x = start_x + (end_x - start_x) / golden_section\n",
    "\n",
    "    left = [left_x, f(left_x)]\n",
    "    right = [right_x, f(right_x)]\n",
    "    search_golden_section_iterations_list.append(\n",
    "        [(end_x + start_x) / 2, f((end_x + start_x) / 2), start_x, end_x, iter]\n",
    "    )\n",
    "    if abs(left[1]) < abs(right[1]):\n",
    "        return search_golden_section_inner(f, start_x, right_x, None, left, epsilon, iter - 1)\n",
    "    else:\n",
    "        return search_golden_section_inner(f, left_x, end_x, right, None, epsilon, iter - 1)"
   ],
   "metadata": {
    "collapsed": false,
    "pycharm": {
     "name": "#%%\n"
    }
   }
  },
  {
   "cell_type": "code",
   "execution_count": 16,
   "outputs": [
    {
     "data": {
      "text/plain": "<Figure size 432x288 with 1 Axes>",
      "image/png": "[encoded data removed]"
     },
     "metadata": {
      "needs_background": "light"
     },
     "output_type": "display_data"
    },
    {
     "data": {
      "text/plain": "           x             y    start_x     end_x  iter\n0  -7.000000  8.000000e+01 -11.000000 -3.000000   500\n1  -5.472136  4.458247e+00  -7.944272 -3.000000   499\n2  -4.527864  4.458247e+00  -6.055728 -3.000000   498\n3  -5.111456  2.484496e-01  -6.055728 -4.167184   497\n4  -4.750776  1.242248e+00  -5.334369 -4.167184   496\n5  -4.973689  1.384562e-02  -5.334369 -4.613009   495\n6  -5.111456  2.484496e-01  -5.334369 -4.888544   494\n7  -5.026311  1.384562e-02  -5.164079 -4.888544   493\n8  -4.973689  1.384562e-02  -5.058834 -4.888544   492\n9  -5.006211  7.715901e-04  -5.058834 -4.953589   491\n10 -4.986111  3.857950e-03  -5.018634 -4.953589   490\n11 -4.998534  4.299924e-05  -5.018634 -4.978434   489\n12 -5.006211  7.715901e-04  -5.018634 -4.993789   488\n13 -5.001466  4.299924e-05  -5.009144 -4.993789   487\n14 -4.998534  4.299924e-05  -5.003279 -4.993789   486\n15 -5.000346  2.396266e-06  -5.003279 -4.997414   485\n16 -4.999226  1.198133e-05  -5.001038 -4.997414   484\n17 -4.999918  1.335393e-07  -5.001038 -4.998798   483\n18 -5.000346  2.396266e-06  -5.001038 -4.999654   482\n19 -5.000082  1.335393e-07  -5.000510 -4.999654   481",
      "text/html": "<div>\n<style scoped>\n    .dataframe tbody tr th:only-of-type {\n        vertical-align: middle;\n    }\n\n    .dataframe tbody tr th {\n        vertical-align: top;\n    }\n\n    .dataframe thead th {\n        text-align: right;\n    }\n</style>\n<table border=\"1\" class=\"dataframe\">\n  <thead>\n    <tr style=\"text-align: right;\">\n      <th></th>\n      <th>x</th>\n      <th>y</th>\n      <th>start_x</th>\n      <th>end_x</th>\n      <th>iter</th>\n    </tr>\n  </thead>\n  <tbody>\n    <tr>\n      <th>0</th>\n      <td>-7.000000</td>\n      <td>8.000000e+01</td>\n      <td>-11.000000</td>\n      <td>-3.000000</td>\n      <td>500</td>\n    </tr>\n    <tr>\n      <th>1</th>\n      <td>-5.472136</td>\n      <td>4.458247e+00</td>\n      <td>-7.944272</td>\n      <td>-3.000000</td>\n      <td>499</td>\n    </tr>\n    <tr>\n      <th>2</th>\n      <td>-4.527864</td>\n      <td>4.458247e+00</td>\n      <td>-6.055728</td>\n      <td>-3.000000</td>\n      <td>498</td>\n    </tr>\n    <tr>\n      <th>3</th>\n      <td>-5.111456</td>\n      <td>2.484496e-01</td>\n      <td>-6.055728</td>\n      <td>-4.167184</td>\n      <td>497</td>\n    </tr>\n    <tr>\n      <th>4</th>\n      <td>-4.750776</td>\n      <td>1.242248e+00</td>\n      <td>-5.334369</td>\n      <td>-4.167184</td>\n      <td>496</td>\n    </tr>\n    <tr>\n      <th>5</th>\n      <td>-4.973689</td>\n      <td>1.384562e-02</td>\n      <td>-5.334369</td>\n      <td>-4.613009</td>\n      <td>495</td>\n    </tr>\n    <tr>\n      <th>6</th>\n      <td>-5.111456</td>\n      <td>2.484496e-01</td>\n      <td>-5.334369</td>\n      <td>-4.888544</td>\n      <td>494</td>\n    </tr>\n    <tr>\n      <th>7</th>\n      <td>-5.026311</td>\n      <td>1.384562e-02</td>\n      <td>-5.164079</td>\n      <td>-4.888544</td>\n      <td>493</td>\n    </tr>\n    <tr>\n      <th>8</th>\n      <td>-4.973689</td>\n      <td>1.384562e-02</td>\n      <td>-5.058834</td>\n      <td>-4.888544</td>\n      <td>492</td>\n    </tr>\n    <tr>\n      <th>9</th>\n      <td>-5.006211</td>\n      <td>7.715901e-04</td>\n      <td>-5.058834</td>\n      <td>-4.953589</td>\n      <td>491</td>\n    </tr>\n    <tr>\n      <th>10</th>\n      <td>-4.986111</td>\n      <td>3.857950e-03</td>\n      <td>-5.018634</td>\n      <td>-4.953589</td>\n      <td>490</td>\n    </tr>\n    <tr>\n      <th>11</th>\n      <td>-4.998534</td>\n      <td>4.299924e-05</td>\n      <td>-5.018634</td>\n      <td>-4.978434</td>\n      <td>489</td>\n    </tr>\n    <tr>\n      <th>12</th>\n      <td>-5.006211</td>\n      <td>7.715901e-04</td>\n      <td>-5.018634</td>\n      <td>-4.993789</td>\n      <td>488</td>\n    </tr>\n    <tr>\n      <th>13</th>\n      <td>-5.001466</td>\n      <td>4.299924e-05</td>\n      <td>-5.009144</td>\n      <td>-4.993789</td>\n      <td>487</td>\n    </tr>\n    <tr>\n      <th>14</th>\n      <td>-4.998534</td>\n      <td>4.299924e-05</td>\n      <td>-5.003279</td>\n      <td>-4.993789</td>\n      <td>486</td>\n    </tr>\n    <tr>\n      <th>15</th>\n      <td>-5.000346</td>\n      <td>2.396266e-06</td>\n      <td>-5.003279</td>\n      <td>-4.997414</td>\n      <td>485</td>\n    </tr>\n    <tr>\n      <th>16</th>\n      <td>-4.999226</td>\n      <td>1.198133e-05</td>\n      <td>-5.001038</td>\n      <td>-4.997414</td>\n      <td>484</td>\n    </tr>\n    <tr>\n      <th>17</th>\n      <td>-4.999918</td>\n      <td>1.335393e-07</td>\n      <td>-5.001038</td>\n      <td>-4.998798</td>\n      <td>483</td>\n    </tr>\n    <tr>\n      <th>18</th>\n      <td>-5.000346</td>\n      <td>2.396266e-06</td>\n      <td>-5.001038</td>\n      <td>-4.999654</td>\n      <td>482</td>\n    </tr>\n    <tr>\n      <th>19</th>\n      <td>-5.000082</td>\n      <td>1.335393e-07</td>\n      <td>-5.000510</td>\n      <td>-4.999654</td>\n      <td>481</td>\n    </tr>\n  </tbody>\n</table>\n</div>"
     },
     "execution_count": 16,
     "metadata": {},
     "output_type": "execute_result"
    }
   ],
   "source": [
    "range = method_sven(x0, h, f, n)\n",
    "result = search_golden_section(f, range[1], range[0])\n",
    "# print(log_search_golden_section_iterations_list)\n",
    "print_iterations(search_golden_section_iterations_list, f=f, range=[-11, -3],\n",
    "                 columns=search_golden_section_iterations_label)\n",
    "# range"
   ],
   "metadata": {
    "collapsed": false,
    "pycharm": {
     "name": "#%%\n"
    }
   }
  },
  {
   "cell_type": "code",
   "execution_count": 8,
   "outputs": [
    {
     "data": {
      "text/plain": "Empty DataFrame\nColumns: []\nIndex: []",
      "text/html": "<div>\n<style scoped>\n    .dataframe tbody tr th:only-of-type {\n        vertical-align: middle;\n    }\n\n    .dataframe tbody tr th {\n        vertical-align: top;\n    }\n\n    .dataframe thead th {\n        text-align: right;\n    }\n</style>\n<table border=\"1\" class=\"dataframe\">\n  <thead>\n    <tr style=\"text-align: right;\">\n      <th></th>\n    </tr>\n  </thead>\n  <tbody>\n  </tbody>\n</table>\n</div>"
     },
     "execution_count": 8,
     "metadata": {},
     "output_type": "execute_result"
    }
   ],
   "source": [
    "pd.DataFrame(log_search_golden_section_iterations_list)"
   ],
   "metadata": {
    "collapsed": false,
    "pycharm": {
     "name": "#%%\n"
    }
   }
  },
  {
   "cell_type": "code",
   "execution_count": 35,
   "outputs": [],
   "source": [
    "# search_pitch_adaptation_iterations_list = []\n",
    "# search_pitch_adaptation_iterations_label = ['x', 'y', 'step', 'step_coef', 'iter']\n",
    "#\n",
    "#\n",
    "# # log_search_golden_section_iterations_list = []\n",
    "# # log_search_golden_section_iterations_label = ['start_x', 'end_x', 'left', \"center\", 'right', 'iter']\n",
    "#\n",
    "#\n",
    "# def search_pitch_adaptation(f, start_x, step, epsilon=0.1, iter=500):\n",
    "#     search_golden_section_iterations_list.clear()\n",
    "#     def next_step_coef(coef, Y):\n",
    "#         if Y[1] < Y[0] and coef >= 0.5:\n",
    "#             return 2\n",
    "#         if Y[1] < Y[0] and coef < 0.5:\n",
    "#             return 0.5\n",
    "#         if Y[1] >= Y[0] and coef == 2:\n",
    "#             return 0.25\n",
    "#         if Y[1] >= Y[0] and coef != 2:\n",
    "#             return -0.5\n",
    "#\n",
    "#     def search_pitch_adaptation_inner(f, start, step, step_coef, epsilon, iter):\n",
    "#         search_golden_section_iterations_list.append(\n",
    "#             [start[0], start[1], step, step_coef, iter]\n",
    "#         )\n",
    "#         if abs(step) < epsilon or iter < 0:\n",
    "#             return start\n",
    "#\n",
    "#         next_x = start[0] + step\n",
    "#         next = [next_x, f(next_x)]\n",
    "#\n",
    "#         next_sc = next_step_coef(step_coef, [start[1], next[1]])\n",
    "#\n",
    "#         if next[1] < start[1]:\n",
    "#             return search_pitch_adaptation_inner(f, next, step * next_sc, next_sc, epsilon, iter - 1)\n",
    "#         else:\n",
    "#             return search_pitch_adaptation_inner(f, start, step * next_sc, next_sc, epsilon, iter - 1)\n",
    "#\n",
    "#     return search_pitch_adaptation_inner(f, [start_x, f(start_x)], step, 0, epsilon, iter - 1)"
   ],
   "metadata": {
    "collapsed": false,
    "pycharm": {
     "name": "#%%\n"
    }
   }
  },
  {
   "cell_type": "code",
   "execution_count": 17,
   "outputs": [
    {
     "data": {
      "text/plain": "<Figure size 432x288 with 1 Axes>",
      "image/png": "[encoded data removed]"
     },
     "metadata": {
      "needs_background": "light"
     },
     "output_type": "display_data"
    },
    {
     "data": {
      "text/plain": "        x       y      step  step_coef  iter\n0  -11.00  720.00  0.100000       0.00   499\n1  -10.90  696.20  0.050000       0.50   498\n2  -10.85  684.45  0.100000       2.00   497\n3  -10.75  661.25  0.200000       2.00   496\n4  -10.55  616.05  0.400000       2.00   495\n5  -10.15  530.45  0.800000       2.00   494\n6   -9.35  378.45  1.600000       2.00   493\n7   -7.75  151.25  3.200000       2.00   492\n8   -4.55    4.05  6.400000       2.00   491\n9   -4.55    4.05  1.600000       0.25   490\n10  -4.55    4.05 -0.800000      -0.50   489\n11  -5.35    2.45 -0.400000       0.50   488\n12  -5.35    2.45  0.200000      -0.50   487\n13  -5.15    0.45  0.100000       0.50   486\n14  -5.05    0.05  0.200000       2.00   485\n15  -5.05    0.05  0.050000       0.25   484\n16  -5.00    0.00  0.025000       0.50   483\n17  -5.00    0.00 -0.012500      -0.50   482\n18  -5.00    0.00  0.006250      -0.50   481\n19  -5.00    0.00 -0.003125      -0.50   480\n20  -5.00    0.00  0.001563      -0.50   479\n21  -5.00    0.00 -0.000781      -0.50   478",
      "text/html": "<div>\n<style scoped>\n    .dataframe tbody tr th:only-of-type {\n        vertical-align: middle;\n    }\n\n    .dataframe tbody tr th {\n        vertical-align: top;\n    }\n\n    .dataframe thead th {\n        text-align: right;\n    }\n</style>\n<table border=\"1\" class=\"dataframe\">\n  <thead>\n    <tr style=\"text-align: right;\">\n      <th></th>\n      <th>x</th>\n      <th>y</th>\n      <th>step</th>\n      <th>step_coef</th>\n      <th>iter</th>\n    </tr>\n  </thead>\n  <tbody>\n    <tr>\n      <th>0</th>\n      <td>-11.00</td>\n      <td>720.00</td>\n      <td>0.100000</td>\n      <td>0.00</td>\n      <td>499</td>\n    </tr>\n    <tr>\n      <th>1</th>\n      <td>-10.90</td>\n      <td>696.20</td>\n      <td>0.050000</td>\n      <td>0.50</td>\n      <td>498</td>\n    </tr>\n    <tr>\n      <th>2</th>\n      <td>-10.85</td>\n      <td>684.45</td>\n      <td>0.100000</td>\n      <td>2.00</td>\n      <td>497</td>\n    </tr>\n    <tr>\n      <th>3</th>\n      <td>-10.75</td>\n      <td>661.25</td>\n      <td>0.200000</td>\n      <td>2.00</td>\n      <td>496</td>\n    </tr>\n    <tr>\n      <th>4</th>\n      <td>-10.55</td>\n      <td>616.05</td>\n      <td>0.400000</td>\n      <td>2.00</td>\n      <td>495</td>\n    </tr>\n    <tr>\n      <th>5</th>\n      <td>-10.15</td>\n      <td>530.45</td>\n      <td>0.800000</td>\n      <td>2.00</td>\n      <td>494</td>\n    </tr>\n    <tr>\n      <th>6</th>\n      <td>-9.35</td>\n      <td>378.45</td>\n      <td>1.600000</td>\n      <td>2.00</td>\n      <td>493</td>\n    </tr>\n    <tr>\n      <th>7</th>\n      <td>-7.75</td>\n      <td>151.25</td>\n      <td>3.200000</td>\n      <td>2.00</td>\n      <td>492</td>\n    </tr>\n    <tr>\n      <th>8</th>\n      <td>-4.55</td>\n      <td>4.05</td>\n      <td>6.400000</td>\n      <td>2.00</td>\n      <td>491</td>\n    </tr>\n    <tr>\n      <th>9</th>\n      <td>-4.55</td>\n      <td>4.05</td>\n      <td>1.600000</td>\n      <td>0.25</td>\n      <td>490</td>\n    </tr>\n    <tr>\n      <th>10</th>\n      <td>-4.55</td>\n      <td>4.05</td>\n      <td>-0.800000</td>\n      <td>-0.50</td>\n      <td>489</td>\n    </tr>\n    <tr>\n      <th>11</th>\n      <td>-5.35</td>\n      <td>2.45</td>\n      <td>-0.400000</td>\n      <td>0.50</td>\n      <td>488</td>\n    </tr>\n    <tr>\n      <th>12</th>\n      <td>-5.35</td>\n      <td>2.45</td>\n      <td>0.200000</td>\n      <td>-0.50</td>\n      <td>487</td>\n    </tr>\n    <tr>\n      <th>13</th>\n      <td>-5.15</td>\n      <td>0.45</td>\n      <td>0.100000</td>\n      <td>0.50</td>\n      <td>486</td>\n    </tr>\n    <tr>\n      <th>14</th>\n      <td>-5.05</td>\n      <td>0.05</td>\n      <td>0.200000</td>\n      <td>2.00</td>\n      <td>485</td>\n    </tr>\n    <tr>\n      <th>15</th>\n      <td>-5.05</td>\n      <td>0.05</td>\n      <td>0.050000</td>\n      <td>0.25</td>\n      <td>484</td>\n    </tr>\n    <tr>\n      <th>16</th>\n      <td>-5.00</td>\n      <td>0.00</td>\n      <td>0.025000</td>\n      <td>0.50</td>\n      <td>483</td>\n    </tr>\n    <tr>\n      <th>17</th>\n      <td>-5.00</td>\n      <td>0.00</td>\n      <td>-0.012500</td>\n      <td>-0.50</td>\n      <td>482</td>\n    </tr>\n    <tr>\n      <th>18</th>\n      <td>-5.00</td>\n      <td>0.00</td>\n      <td>0.006250</td>\n      <td>-0.50</td>\n      <td>481</td>\n    </tr>\n    <tr>\n      <th>19</th>\n      <td>-5.00</td>\n      <td>0.00</td>\n      <td>-0.003125</td>\n      <td>-0.50</td>\n      <td>480</td>\n    </tr>\n    <tr>\n      <th>20</th>\n      <td>-5.00</td>\n      <td>0.00</td>\n      <td>0.001563</td>\n      <td>-0.50</td>\n      <td>479</td>\n    </tr>\n    <tr>\n      <th>21</th>\n      <td>-5.00</td>\n      <td>0.00</td>\n      <td>-0.000781</td>\n      <td>-0.50</td>\n      <td>478</td>\n    </tr>\n  </tbody>\n</table>\n</div>"
     },
     "execution_count": 17,
     "metadata": {},
     "output_type": "execute_result"
    }
   ],
   "source": [
    "res = search_pitch_adaptation(f, -11, 0.1, 0.001)\n",
    "# print_iterations(search_golden_section_iterations_list)\n",
    "print_iterations(search_pitch_adaptation_iterations_list, f=f, range=[-13, -4],\n",
    "                 columns=search_pitch_adaptation_iterations_label)\n",
    "# res\n",
    "# search_golden_section_iterations_list"
   ],
   "metadata": {
    "collapsed": false,
    "pycharm": {
     "name": "#%%\n"
    }
   }
  },
  {
   "cell_type": "code",
   "execution_count": null,
   "outputs": [],
   "source": [],
   "metadata": {
    "collapsed": false,
    "pycharm": {
     "name": "#%%\n"
    }
   }
  }
 ],
 "metadata": {
  "kernelspec": {
   "display_name": "Python 3",
   "language": "python",
   "name": "python3"
  },
  "language_info": {
   "codemirror_mode": {
    "name": "ipython",
    "version": 2
   },
   "file_extension": ".py",
   "mimetype": "text/x-python",
   "name": "python",
   "nbconvert_exporter": "python",
   "pygments_lexer": "ipython2",
   "version": "2.7.6"
  }
 },
 "nbformat": 4,
 "nbformat_minor": 0
}